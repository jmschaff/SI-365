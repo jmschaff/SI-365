{
 "cells": [
  {
   "cell_type": "markdown",
   "metadata": {},
   "source": [
    "###Importing necessary libraries"
   ]
  },
  {
   "cell_type": "code",
   "execution_count": 5,
   "metadata": {
    "collapsed": true
   },
   "outputs": [],
   "source": [
    "import matplotlib.mlab as mlab\n",
    "import matplotlib.pyplot as plt\n",
    "%matplotlib inline\n",
    "import matplotlib.colors\n",
    "import numpy as np\n",
    "import math\n",
    "import sys\n",
    "import time\n",
    "import csv"
   ]
  },
  {
   "cell_type": "markdown",
   "metadata": {},
   "source": [
    "### Functions\n",
    "\n",
    "### Function to make a 1D histogram plot\n",
    "* min and max are determined by x's range, \n",
    "* mu and sigma are input estimates of mean and stdev \n",
    "* histogram uses nbin bins \n",
    "* xlabel is x-axis label (string)\n",
    "* show = 0 produces figure, show=1 suspends execution to view\n"
   ]
  },
  {
   "cell_type": "code",
   "execution_count": 6,
   "metadata": {
    "collapsed": true
   },
   "outputs": [],
   "source": [
    "def makeHistogram1D(x, mu, sigma, nbin, show, xlabel, addline): \n",
    "\n",
    "# create the histogram of the data\n",
    "    n, bins, patches = plt.hist(x, nbin, normed=1, facecolor='blue', alpha=0.3)\n",
    "# add a 'best fit' line\n",
    "#     y = mlab.normpdf(bins, mu, sigma)\n",
    "#     plt.plot(bins, y, 'g--')\n",
    "    if (addline): \n",
    "        xx = np.linspace(mu-4*sigma, mu+4*sigma, 200)\n",
    "        yy = 1/(np.sqrt(2*np.pi)*sigma) * np.exp(-0.5 * ((xx - mu)/sigma)**2)\n",
    "        plt.plot(xx, yy, 'r-')\n",
    "    plt.xlabel(xlabel)\n",
    "    plt.ylabel('Probability')\n",
    "    plt.title('Histogram')\n",
    "    # Tweak spacing to prevent clipping of ylabel\n",
    "#     plt.subplots_adjust(left=0.15)\n",
    "    if (show): \n",
    "        plt.show()\n",
    "    else:\n",
    "        plt.figure()\n",
    "\n"
   ]
  },
  {
   "cell_type": "markdown",
   "metadata": {},
   "source": [
    "### Function to read in {x,y} pair values from a csv file \n",
    "* reads in a sample of known size Nsam and return data the (x,y) values as two arrays"
   ]
  },
  {
   "cell_type": "code",
   "execution_count": 7,
   "metadata": {
    "collapsed": true
   },
   "outputs": [],
   "source": [
    "def readCSV(filename, Nsam):  \n",
    "\n",
    "    x = np.zeros(Nsam, float)\n",
    "    y = np.zeros(Nsam, float)\n",
    "\n",
    "    print(\"opening file \", filename)\n",
    "    with open(filename, 'r') as f:\n",
    "        reader = csv.reader(f)\n",
    "        n = 0\n",
    "        for row in reader:\n",
    "            x[n] = float(row[0])\n",
    "            y[n] = float(row[1])\n",
    "            n += 1\n",
    "    print(\"sample read has size \", n)  # note: no check that n=Nsam here\n",
    "    return x,y\n"
   ]
  },
  {
   "cell_type": "markdown",
   "metadata": {},
   "source": [
    "###MAIN BOOTSTRAP CODE "
   ]
  },
  {
   "cell_type": "code",
   "execution_count": 8,
   "metadata": {},
   "outputs": [
    {
     "name": "stdout",
     "output_type": "stream",
     "text": [
      "opening file  03tuesday.csv\n",
      "sample read has size  1000000\n",
      "sample mean and stdev of x 15.0007238013 0.499878577352\n",
      "Doing 1000 boostrap resamplings on sample of size  1000000\n"
     ]
    },
    {
     "name": "stderr",
     "output_type": "stream",
     "text": [
      "/Users/Demarkus/anaconda/lib/python3.6/site-packages/ipykernel_launcher.py:33: DeprecationWarning: This function is deprecated. Please call randint(0, 999999 + 1) instead\n",
      "/Users/Demarkus/anaconda/lib/python3.6/site-packages/ipykernel_launcher.py:34: DeprecationWarning: This function is deprecated. Please call randint(0, 999999 + 1) instead\n"
     ]
    },
    {
     "name": "stdout",
     "output_type": "stream",
     "text": [
      "iteration 0\n",
      "iteration 100\n",
      "iteration 200\n",
      "iteration 300\n",
      "iteration 400\n",
      "iteration 500\n",
      "iteration 600\n",
      "iteration 700\n",
      "iteration 800\n",
      "iteration 900\n",
      "5, 50, 95 percent xmean =  14.9999231524 15.0007162628 15.0015185562\n",
      "5, 50, 95 percent xstdev =  0.499280936303 0.499896162785 0.500498013029\n",
      "5, 50, 95 percent ymean =  -51.3739178371 -50.1103853613 -48.761306889\n",
      "5, 50, 95 percent ystdev =  799.524496477 800.408513073 801.354039447\n",
      "5, 50, 95 percent r =  -1.13045838389 0.0626520604079 2.31689935648\n",
      "total time elapsed=  458.340823\n"
     ]
    },
    {
     "data": {
      "image/png": "[encoded data removed]",
      "text/plain": [
       "<matplotlib.figure.Figure at 0x1109ca898>"
      ]
     },
     "metadata": {},
     "output_type": "display_data"
    },
    {
     "data": {
      "image/png": "[encoded data removed]",
      "text/plain": [
       "<matplotlib.figure.Figure at 0x11a249d68>"
      ]
     },
     "metadata": {},
     "output_type": "display_data"
    }
   ],
   "source": [
    "if __name__ == \"__main__\":\n",
    "    tstart = time.clock()\n",
    "\n",
    "# read in an existing file of known size\n",
    "    Nread = 1000000\n",
    "    x,y = readCSV(\"03tuesday.csv\", Nread)\n",
    "\n",
    "# downsample input data if desired  \n",
    "    Nsam = 1000000\n",
    "    if (Nsam < Nread):\n",
    "        x = x[0:Nsam]\n",
    "        print(\"x downsampled to length \", len(x))\n",
    "\n",
    "# record mean and stdev of sample\n",
    "    xmeanSam = sum(x)/Nsam\n",
    "    xstdevSam = np.sqrt(sum((x-xmeanSam)**2)/(Nsam-1))\n",
    "    print (\"sample mean and stdev of x\", xmeanSam, xstdevSam)\n",
    "\n",
    "# M is the number of bootstrap samples to generate\n",
    "    M = 1000\n",
    "    print(\"Doing\", M, \"boostrap resamplings on sample of size \", Nsam)\n",
    "\n",
    "# create arrays to hold iteration values of mean and stdev\n",
    "    xmean = np.zeros(M,float)\n",
    "    xstdev = np.zeros(M,float)\n",
    "    ymean = np.zeros(M,float)\n",
    "    ystdev = np.zeros(M,float)\n",
    "    r = np.zeros(M,float)\n",
    "    \n",
    "# start bootstrap\n",
    "    i=0\n",
    "    while(i<M):\n",
    "        itmp = np.random.random_integers(0, Nsam-1, Nsam)\n",
    "        jtmp = np.random.random_integers(0, Nsam-1, Nsam)\n",
    "        xtmp = x[itmp]\n",
    "        ytmp = y[jtmp]\n",
    "\n",
    "# record mean and stdev for this sample\n",
    "        xmean[i] = sum(xtmp)/Nsam\n",
    "        xstdev[i] = np.sqrt(sum((xtmp-xmean[i])**2)/(Nsam-1))\n",
    "        ymean[i] = sum(ytmp)/Nsam\n",
    "        ystdev[i] = np.sqrt(sum((ytmp-ymean[i])**2)/(Nsam-1))\n",
    "        r[i] = ((x[i]-xmean[i])/xstdev[i])*((y[i]-ymean[i])/ystdev[i])\n",
    "\n",
    "        if(i%100==0): print(\"iteration\", i)\n",
    "        i += 1\n",
    "# compute median and 5, 95%-ile values \n",
    "    xmeansort = np.sort(xmean)\n",
    "    print(\"5, 50, 95 percent xmean = \", xmeansort[int(0.05*M)], xmeansort[int(0.5*M)], xmeansort[int(0.95*M)])\n",
    "    xstdevsort = np.sort(xstdev)\n",
    "    print(\"5, 50, 95 percent xstdev = \", xstdevsort[int(0.05*M)], xstdevsort[int(0.5*M)], xstdevsort[int(0.95*M)])\n",
    "    \n",
    "    ymeansort = np.sort(ymean)\n",
    "    print(\"5, 50, 95 percent ymean = \", ymeansort[int(0.05*M)], ymeansort[int(0.5*M)], ymeansort[int(0.95*M)])\n",
    "    ystdevsort = np.sort(ystdev)\n",
    "    print(\"5, 50, 95 percent ystdev = \", ystdevsort[int(0.05*M)], ystdevsort[int(0.5*M)], ystdevsort[int(0.95*M)])\n",
    "\n",
    "    rsort = np.sort(r)\n",
    "    print(\"5, 50, 95 percent r = \", rsort[int(0.05*M)], rsort[int(0.5*M)], rsort[int(0.95*M)])\n",
    "\n",
    "    \n",
    "    tend = time.clock()\n",
    "    print(\"total time elapsed= \", tend-tstart)\n",
    "\n",
    "# plot frequency distributions from full set of bootstrap resamplings\n",
    "    makeHistogram1D(xmean, xmeanSam, xstdevSam/np.sqrt(Nsam), 100, 0, 'mean x', 1)\n",
    "#     fac = np.sqrt(Nsam*M)\n",
    "    makeHistogram1D(xstdev, xstdevSam, xstdevSam/M, 100, 1, 'stdev x', 0)"
   ]
  },
  {
   "cell_type": "code",
   "execution_count": null,
   "metadata": {
    "collapsed": true
   },
   "outputs": [],
   "source": []
  },
  {
   "cell_type": "code",
   "execution_count": null,
   "metadata": {
    "collapsed": true
   },
   "outputs": [],
   "source": []
  }
 ],
 "metadata": {
  "kernelspec": {
   "display_name": "Python 3",
   "language": "python",
   "name": "python3"
  },
  "language_info": {
   "codemirror_mode": {
    "name": "ipython",
    "version": 3
   },
   "file_extension": ".py",
   "mimetype": "text/x-python",
   "name": "python",
   "nbconvert_exporter": "python",
   "pygments_lexer": "ipython3",
   "version": "3.6.1"
  }
 },
 "nbformat": 4,
 "nbformat_minor": 1
}

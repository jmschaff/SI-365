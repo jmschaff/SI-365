{
 "cells": [
  {
   "cell_type": "markdown",
   "metadata": {},
   "source": [
    "###Importing necessary libraries"
   ]
  },
  {
   "cell_type": "code",
   "execution_count": 1,
   "metadata": {
    "collapsed": true
   },
   "outputs": [],
   "source": [
    "import matplotlib.mlab as mlab\n",
    "import matplotlib.pyplot as plt\n",
    "%matplotlib inline\n",
    "import matplotlib.colors\n",
    "import numpy as np\n",
    "import math\n",
    "import sys\n",
    "import time\n",
    "import csv"
   ]
  },
  {
   "cell_type": "markdown",
   "metadata": {},
   "source": [
    "### Functions\n",
    "\n",
    "### Function to make a 1D histogram plot\n",
    "* min and max are determined by x's range, \n",
    "* mu and sigma are input estimates of mean and stdev \n",
    "* histogram uses nbin bins \n",
    "* xlabel is x-axis label (string)\n",
    "* show = 0 produces figure, show=1 suspends execution to view\n"
   ]
  },
  {
   "cell_type": "code",
   "execution_count": 2,
   "metadata": {
    "collapsed": true
   },
   "outputs": [],
   "source": [
    "def makeHistogram1D(x, mu, sigma, nbin, show, xlabel, addline): \n",
    "\n",
    "# create the histogram of the data\n",
    "    n, bins, patches = plt.hist(x, nbin, normed=1, facecolor='blue', alpha=0.3)\n",
    "# add a 'best fit' line\n",
    "#     y = mlab.normpdf(bins, mu, sigma)\n",
    "#     plt.plot(bins, y, 'g--')\n",
    "    if (addline): \n",
    "        xx = np.linspace(mu-4*sigma, mu+4*sigma, 200)\n",
    "        yy = 1/(np.sqrt(2*np.pi)*sigma) * np.exp(-0.5 * ((xx - mu)/sigma)**2)\n",
    "        plt.plot(xx, yy, 'r-')\n",
    "    plt.xlabel(xlabel)\n",
    "    plt.ylabel('Probability')\n",
    "    plt.title('Histogram')\n",
    "    # Tweak spacing to prevent clipping of ylabel\n",
    "#     plt.subplots_adjust(left=0.15)\n",
    "    if (show): \n",
    "        plt.show()\n",
    "    else:\n",
    "        plt.figure()\n",
    "\n"
   ]
  },
  {
   "cell_type": "markdown",
   "metadata": {},
   "source": [
    "### Function to read in {x,y} pair values from a csv file \n",
    "* reads in a sample of known size Nsam and return data the (x,y) values as two arrays"
   ]
  },
  {
   "cell_type": "code",
   "execution_count": 3,
   "metadata": {
    "collapsed": true
   },
   "outputs": [],
   "source": [
    "def readCSV(filename, Nsam):  \n",
    "\n",
    "    x = np.zeros(Nsam, float)\n",
    "    y = np.zeros(Nsam, float)\n",
    "\n",
    "    print(\"opening file \", filename)\n",
    "    with open(filename, 'rb') as f:\n",
    "        reader = csv.reader(f)\n",
    "        n = 0\n",
    "        for row in reader:\n",
    "            x[n] = float(row[0])\n",
    "            y[n] = float(row[1])\n",
    "            n += 1\n",
    "    print(\"sample read has size \", n)  # note: no check that n=Nsam here\n",
    "    return x,y\n"
   ]
  },
  {
   "cell_type": "markdown",
   "metadata": {},
   "source": [
    "###MAIN BOOTSTRAP CODE "
   ]
  },
  {
   "cell_type": "code",
   "execution_count": 4,
   "metadata": {},
   "outputs": [
    {
     "name": "stdout",
     "output_type": "stream",
     "text": [
      "opening file  testFile.csv\n"
     ]
    },
    {
     "ename": "Error",
     "evalue": "iterator should return strings, not bytes (did you open the file in text mode?)",
     "output_type": "error",
     "traceback": [
      "\u001b[0;31m---------------------------------------------------------------------------\u001b[0m",
      "\u001b[0;31mError\u001b[0m                                     Traceback (most recent call last)",
      "\u001b[0;32m<ipython-input-4-a1448cf24adc>\u001b[0m in \u001b[0;36m<module>\u001b[0;34m()\u001b[0m\n\u001b[1;32m      4\u001b[0m \u001b[0;31m# read in an existing file of known size\u001b[0m\u001b[0;34m\u001b[0m\u001b[0;34m\u001b[0m\u001b[0m\n\u001b[1;32m      5\u001b[0m     \u001b[0mNread\u001b[0m \u001b[0;34m=\u001b[0m \u001b[0;36m1000000\u001b[0m\u001b[0;34m\u001b[0m\u001b[0m\n\u001b[0;32m----> 6\u001b[0;31m     \u001b[0mx\u001b[0m\u001b[0;34m,\u001b[0m\u001b[0my\u001b[0m \u001b[0;34m=\u001b[0m \u001b[0mreadCSV\u001b[0m\u001b[0;34m(\u001b[0m\u001b[0;34m\"testFile.csv\"\u001b[0m\u001b[0;34m,\u001b[0m \u001b[0mNread\u001b[0m\u001b[0;34m)\u001b[0m\u001b[0;34m\u001b[0m\u001b[0m\n\u001b[0m\u001b[1;32m      7\u001b[0m \u001b[0;34m\u001b[0m\u001b[0m\n\u001b[1;32m      8\u001b[0m \u001b[0;31m# downsample input data if desired\u001b[0m\u001b[0;34m\u001b[0m\u001b[0;34m\u001b[0m\u001b[0m\n",
      "\u001b[0;32m<ipython-input-3-997362357311>\u001b[0m in \u001b[0;36mreadCSV\u001b[0;34m(filename, Nsam)\u001b[0m\n\u001b[1;32m      8\u001b[0m         \u001b[0mreader\u001b[0m \u001b[0;34m=\u001b[0m \u001b[0mcsv\u001b[0m\u001b[0;34m.\u001b[0m\u001b[0mreader\u001b[0m\u001b[0;34m(\u001b[0m\u001b[0mf\u001b[0m\u001b[0;34m)\u001b[0m\u001b[0;34m\u001b[0m\u001b[0m\n\u001b[1;32m      9\u001b[0m         \u001b[0mn\u001b[0m \u001b[0;34m=\u001b[0m \u001b[0;36m0\u001b[0m\u001b[0;34m\u001b[0m\u001b[0m\n\u001b[0;32m---> 10\u001b[0;31m         \u001b[0;32mfor\u001b[0m \u001b[0mrow\u001b[0m \u001b[0;32min\u001b[0m \u001b[0mreader\u001b[0m\u001b[0;34m:\u001b[0m\u001b[0;34m\u001b[0m\u001b[0m\n\u001b[0m\u001b[1;32m     11\u001b[0m             \u001b[0mx\u001b[0m\u001b[0;34m[\u001b[0m\u001b[0mn\u001b[0m\u001b[0;34m]\u001b[0m \u001b[0;34m=\u001b[0m \u001b[0mfloat\u001b[0m\u001b[0;34m(\u001b[0m\u001b[0mrow\u001b[0m\u001b[0;34m[\u001b[0m\u001b[0;36m0\u001b[0m\u001b[0;34m]\u001b[0m\u001b[0;34m)\u001b[0m\u001b[0;34m\u001b[0m\u001b[0m\n\u001b[1;32m     12\u001b[0m             \u001b[0my\u001b[0m\u001b[0;34m[\u001b[0m\u001b[0mn\u001b[0m\u001b[0;34m]\u001b[0m \u001b[0;34m=\u001b[0m \u001b[0mfloat\u001b[0m\u001b[0;34m(\u001b[0m\u001b[0mrow\u001b[0m\u001b[0;34m[\u001b[0m\u001b[0;36m1\u001b[0m\u001b[0;34m]\u001b[0m\u001b[0;34m)\u001b[0m\u001b[0;34m\u001b[0m\u001b[0m\n",
      "\u001b[0;31mError\u001b[0m: iterator should return strings, not bytes (did you open the file in text mode?)"
     ]
    }
   ],
   "source": [
    "if __name__ == \"__main__\":\n",
    "    tstart = time.clock()\n",
    "\n",
    "# read in an existing file of known size\n",
    "    Nread = 1000000\n",
    "    x,y = readCSV(\"testFile.csv\", Nread)\n",
    "\n",
    "# downsample input data if desired  \n",
    "    Nsam = 1000\n",
    "    if (Nsam < Nread):\n",
    "        x = x[0:Nsam]\n",
    "        print(\"x downsampled to length \", len(x))\n",
    "\n",
    "# record mean and stdev of sample\n",
    "    xmeanSam = sum(x)/Nsam\n",
    "    xstdevSam = np.sqrt(sum((x-xmeanSam)**2)/(Nsam-1))\n",
    "    print (\"sample mean and stdev of x\", xmeanSam, xstdevSam)\n",
    "\n",
    "# M is the number of bootstrap samples to generate\n",
    "    M = 1000\n",
    "    print(\"Doing\", M, \"boostrap resamplings on sample of size \", Nsam)\n",
    "\n",
    "# create arrays to hold iteration values of mean and stdev\n",
    "    xmean = np.zeros(M,float)\n",
    "    xstdev = np.zeros(M,float)\n",
    "    \n",
    "# start bootstrap\n",
    "    i=0\n",
    "    while(i<M):\n",
    "        itmp = np.random.random_integers(0, Nsam-1, Nsam)\n",
    "        xtmp = x[itmp]\n",
    "\n",
    "# record mean and stdev for this sample\n",
    "        xmean[i] = sum(xtmp)/Nsam\n",
    "        xstdev[i] = np.sqrt(sum((xtmp-xmean[i])**2)/(Nsam-1))\n",
    "\n",
    "        if(i%100==0): print(\"iteration\", i)\n",
    "        i += 1\n",
    "# compute median and 5, 95%-ile values \n",
    "    xmeansort = np.sort(xmean)\n",
    "    print(\"5, 50, 95 percent mean = \", xmeansort[int(0.05*M)], xmeansort[int(0.5*M)], xmeansort[int(0.95*M)])\n",
    "    xstdevsort = np.sort(xstdev)\n",
    "    print(\"5, 50, 95 percent stdev = \", xstdevsort[int(0.05*M)], xstdevsort[int(0.5*M)], xstdevsort[int(0.95*M)])\n",
    "    \n",
    "    tend = time.clock()\n",
    "    print(\"total time elapsed= \", tend-tstart)\n",
    "\n",
    "# plot frequency distributions from full set of bootstrap resamplings\n",
    "    makeHistogram1D(xmean, xmeanSam, xstdevSam/np.sqrt(Nsam), 100, 0, 'mean x', 1)\n",
    "#     fac = np.sqrt(Nsam*M)\n",
    "    makeHistogram1D(xstdev, xstdevSam, xstdevSam/M, 100, 1, 'stdev x', 0)"
   ]
  },
  {
   "cell_type": "code",
   "execution_count": null,
   "metadata": {
    "collapsed": true
   },
   "outputs": [],
   "source": []
  },
  {
   "cell_type": "code",
   "execution_count": null,
   "metadata": {
    "collapsed": true
   },
   "outputs": [],
   "source": []
  }
 ],
 "metadata": {
  "kernelspec": {
   "display_name": "Python 3",
   "language": "python",
   "name": "python3"
  },
  "language_info": {
   "codemirror_mode": {
    "name": "ipython",
    "version": 3
   },
   "file_extension": ".py",
   "mimetype": "text/x-python",
   "name": "python",
   "nbconvert_exporter": "python",
   "pygments_lexer": "ipython3",
   "version": "3.6.1"
  }
 },
 "nbformat": 4,
 "nbformat_minor": 1
}
